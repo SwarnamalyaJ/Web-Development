{
 "cells": [
  {
   "cell_type": "code",
   "execution_count": 3,
   "id": "9c163f63-b58b-4e58-a69f-ca076d2b2fbe",
   "metadata": {},
   "outputs": [
    {
     "name": "stdout",
     "output_type": "stream",
     "text": [
      "Model loaded successfully from finalised_model.pkl\n",
      "Prediction: Existing Customer\n"
     ]
    },
    {
     "name": "stderr",
     "output_type": "stream",
     "text": [
      "C:\\Users\\Malya\\anaconda3\\envs\\aimlds\\lib\\site-packages\\sklearn\\base.py:493: UserWarning: X does not have valid feature names, but RandomForestClassifier was fitted with feature names\n",
      "  warnings.warn(\n"
     ]
    }
   ],
   "source": [
    "import pickle\n",
    "\n",
    "# Load the saved model\n",
    "filename = \"finalised_model.pkl\"\n",
    "with open(filename, \"rb\") as file:\n",
    "    loaded_model = pickle.load(file)\n",
    "\n",
    "print(f\"Model loaded successfully from {filename}\")\n",
    "\n",
    "# Example input data for prediction\n",
    "# Ensure the input order matches the order of features used during training\n",
    "input_data = [[12691.0,1144,1.625,11914.0, 45,0.061,42]]  # Replace these values with actual inputs\n",
    "\n",
    "# Make prediction\n",
    "result = loaded_model.predict(input_data)\n",
    "\n",
    "# Interpret and print the result\n",
    "if result[0] == 0:\n",
    "    print(\"Prediction: Existing Customer\")\n",
    "else:\n",
    "    print(\"Prediction: Attrited Customer\")"
   ]
  },
  {
   "cell_type": "code",
   "execution_count": null,
   "id": "89a2d21b-235e-4fa9-ad5c-3cf0e0533f20",
   "metadata": {},
   "outputs": [],
   "source": []
  },
  {
   "cell_type": "code",
   "execution_count": null,
   "id": "c4095a6b-f3e6-48c5-bcdc-d0d241af9303",
   "metadata": {},
   "outputs": [],
   "source": []
  }
 ],
 "metadata": {
  "kernelspec": {
   "display_name": "Python 3 (ipykernel)",
   "language": "python",
   "name": "python3"
  },
  "language_info": {
   "codemirror_mode": {
    "name": "ipython",
    "version": 3
   },
   "file_extension": ".py",
   "mimetype": "text/x-python",
   "name": "python",
   "nbconvert_exporter": "python",
   "pygments_lexer": "ipython3",
   "version": "3.10.15"
  }
 },
 "nbformat": 4,
 "nbformat_minor": 5
}
